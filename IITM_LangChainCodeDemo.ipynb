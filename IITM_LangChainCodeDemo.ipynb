{
 "cells": [
  {
   "cell_type": "markdown",
   "metadata": {},
   "source": [
    "# LangChain Code Demos\n"
   ]
  },
  {
   "cell_type": "code",
   "execution_count": 3,
   "metadata": {},
   "outputs": [],
   "source": [
    "# pip install langchain langchain-google-genai google-generativeai "
   ]
  },
  {
   "cell_type": "code",
   "execution_count": 2,
   "metadata": {},
   "outputs": [],
   "source": [
    "import langchain"
   ]
  },
  {
   "cell_type": "code",
   "execution_count": null,
   "metadata": {},
   "outputs": [
    {
     "name": "stdout",
     "output_type": "stream",
     "text": [
      "Hello there! How can I help you today?\n"
     ]
    }
   ],
   "source": [
    "from langchain_google_genai import ChatGoogleGenerativeAI\n",
    "\n",
    "api_key='apikey'\n",
    "# Gemini 1.5 Flash LLM\n",
    "llm = ChatGoogleGenerativeAI(model=\"models/gemini-1.5-flash\", temperature=0.7,api_key=api_key)\n",
    "\n",
    "# Test\n",
    "response = llm.invoke(\"Hello\")\n",
    "print(response.content)"
   ]
  },
  {
   "cell_type": "markdown",
   "metadata": {},
   "source": [
    "# Chain\n"
   ]
  },
  {
   "cell_type": "code",
   "execution_count": 9,
   "metadata": {},
   "outputs": [
    {
     "name": "stdout",
     "output_type": "stream",
     "text": [
      "1. **ProdentAI:**  Combines \"prodent\" (relating to professional dental care) with \"AI,\" highlighting the smart technology.  It's memorable and clearly communicates the product's function.\n",
      "\n",
      "2. **BrushWise:**  A playful yet sophisticated name suggesting intelligence and informed brushing habits.  It's easy to pronounce and remember.\n",
      "\n",
      "3. **OraSense:**  Combines \"ora\" (relating to the mouth/oral cavity) with \"sense,\" implying the toothbrush's ability to sense and adapt to individual needs. It sounds more premium and technologically advanced.\n"
     ]
    }
   ],
   "source": [
    "from langchain.prompts import PromptTemplate\n",
    "from langchain.chains import LLMChain\n",
    "from langchain_google_genai import ChatGoogleGenerativeAI\n",
    "\n",
    "llm = ChatGoogleGenerativeAI(model=\"models/gemini-1.5-flash\", temperature=0.7,api_key=api_key)\n",
    "\n",
    "prompt = PromptTemplate(\n",
    "    template=\"What are 3 unique names for a startup that makes {product}?\",\n",
    "    input_variables=[\"product\"]\n",
    ")\n",
    "\n",
    "chain = LLMChain(llm=llm, prompt=prompt)\n",
    "response = chain.run(\"Smart toothbrushes\")\n",
    "print(response)"
   ]
  },
  {
   "cell_type": "markdown",
   "metadata": {},
   "source": [
    "# Sequential Chain"
   ]
  },
  {
   "cell_type": "code",
   "execution_count": 10,
   "metadata": {},
   "outputs": [
    {
     "name": "stdout",
     "output_type": "stream",
     "text": [
      "\n",
      "\n",
      "\u001b[1m> Entering new SimpleSequentialChain chain...\u001b[0m\n",
      "\u001b[36;1m\u001b[1;3mHere are some product name ideas for an app that helps with chronic procrastination, categorized by approach:\n",
      "\n",
      "**Emphasizing Motivation & Action:**\n",
      "\n",
      "* **Momentum:** Simple, powerful, and speaks to the core goal.\n",
      "* **Procrastinate No More:** Direct and clear.\n",
      "* **ActionNow:**  Emphasizes immediate action.\n",
      "* **TaskLaunch:**  Focuses on starting tasks.\n",
      "* **Get It Done:** Straightforward and motivating.\n",
      "* **FlowState:**  Highlights the positive feeling of productivity.\n",
      "* **Spark:**  Suggests igniting motivation.\n",
      "\n",
      "\n",
      "**Emphasizing Planning & Organization:**\n",
      "\n",
      "* **TimeCraft:**  Implies building a better relationship with time.\n",
      "* **TaskZen:**  Suggests a calm and organized approach.\n",
      "* **FocusFlow:**  Combines focus and productivity.\n",
      "* **Procrastination Slayer:**  A bit more playful, but memorable.\n",
      "* **Habit Architect:**  Highlights building good habits.\n",
      "\n",
      "\n",
      "**Emphasizing Gentle Support & Self-Compassion:**\n",
      "\n",
      "* **The Gentle Push:**  Suggests supportive encouragement.\n",
      "* **Kindling:**  Implies slowly building momentum.\n",
      "* **Progress Path:**  Focuses on the journey, not just the destination.\n",
      "* **Inner Drive:**  Connects to intrinsic motivation.\n",
      "\n",
      "\n",
      "**Creative & Catchy Names:**\n",
      "\n",
      "* **Unstuck:** Simple and relatable.\n",
      "* **Deadline Dash:**  Playful and memorable.\n",
      "* **Procrastination Potion:**  Intriguing and memorable.\n",
      "\n",
      "\n",
      "When choosing, consider:\n",
      "\n",
      "* **Target audience:**  A younger audience might respond better to a playful name, while a more professional audience might prefer something serious and straightforward.\n",
      "* **App features:** The name should reflect the app's core functionality.\n",
      "* **Memorability:**  A short, catchy name is easier to remember.\n",
      "* **Availability:** Check if the name and related domain name are available.\n",
      "\n",
      "\n",
      "I recommend brainstorming further based on these suggestions and testing different names with your target audience.\u001b[0m\n",
      "\u001b[33;1m\u001b[1;3mStop procrastinating and start achieving your goals with Momentum: the app that gently guides you to consistent progress.\u001b[0m\n",
      "\n",
      "\u001b[1m> Finished chain.\u001b[0m\n",
      "Stop procrastinating and start achieving your goals with Momentum: the app that gently guides you to consistent progress.\n"
     ]
    }
   ],
   "source": [
    "from langchain.prompts import PromptTemplate\n",
    "from langchain.chains import LLMChain, SimpleSequentialChain\n",
    "from langchain_google_genai import ChatGoogleGenerativeAI\n",
    "\n",
    "llm = ChatGoogleGenerativeAI(model=\"models/gemini-1.5-flash\", temperature=0.7,api_key=  api_key)\n",
    "\n",
    "prompt1 = PromptTemplate.from_template(\"Give a product name for an app that helps with {problem}\")\n",
    "chain1 = LLMChain(llm=llm, prompt=prompt1)\n",
    "\n",
    "prompt2 = PromptTemplate.from_template(\"Write a 1-line pitch for an app that solves {problem}\")\n",
    "chain2 = LLMChain(llm=llm, prompt=prompt2)\n",
    "\n",
    "chain = SimpleSequentialChain(chains=[chain1, chain2], verbose=True)\n",
    "output = chain.run(\"chronic procrastination\")\n",
    "print(output)\n"
   ]
  },
  {
   "cell_type": "markdown",
   "metadata": {},
   "source": [
    "# Inbuilt Tools\n"
   ]
  },
  {
   "cell_type": "code",
   "execution_count": 6,
   "metadata": {},
   "outputs": [
    {
     "name": "stdout",
     "output_type": "stream",
     "text": [
      "\n",
      "\n",
      "\u001b[1m> Entering new AgentExecutor chain...\u001b[0m\n",
      "\u001b[32;1m\u001b[1;3mThought: I need to calculate (10*5)^2 and then add 10 to the result.  I will use the calculator for this.\n",
      "Action: Calculator\n",
      "Action Input: (10*5)^2 + 10\u001b[0m\n",
      "Observation: \u001b[36;1m\u001b[1;3mAnswer: 2510\u001b[0m\n",
      "Thought:\u001b[32;1m\u001b[1;3mThought: I now know the final answer\n",
      "Final Answer: 2510\u001b[0m\n",
      "\n",
      "\u001b[1m> Finished chain.\u001b[0m\n",
      "2510\n"
     ]
    }
   ],
   "source": [
    "\n",
    "from langchain_google_genai import ChatGoogleGenerativeAI\n",
    "from langchain.agents import initialize_agent, AgentType, load_tools\n",
    "\n",
    "\n",
    "# Initialize Gemini 1.5 Flash\n",
    "llm = ChatGoogleGenerativeAI(\n",
    "    model=\"models/gemini-1.5-flash-latest\",\n",
    "    google_api_key=api_key,\n",
    "    temperature=0.7\n",
    ")\n",
    "\n",
    "# Load only llm-math tool\n",
    "tools = load_tools([\"llm-math\"], llm=llm)\n",
    "\n",
    "# Create agent with the tool\n",
    "agent = initialize_agent(\n",
    "    tools=tools,\n",
    "    llm=llm,\n",
    "    agent=AgentType.ZERO_SHOT_REACT_DESCRIPTION,\n",
    "    verbose=True\n",
    ")\n",
    "\n",
    "# Run agent with math query\n",
    "response = agent.run(\"What is (10*5)^2 plus 10?\")\n",
    "print(response)\n"
   ]
  },
  {
   "cell_type": "markdown",
   "metadata": {},
   "source": [
    "# Agent + Custom Tool"
   ]
  },
  {
   "cell_type": "code",
   "execution_count": null,
   "metadata": {},
   "outputs": [
    {
     "ename": "NameError",
     "evalue": "name 'api_key' is not defined",
     "output_type": "error",
     "traceback": [
      "\u001b[1;31m---------------------------------------------------------------------------\u001b[0m",
      "\u001b[1;31mNameError\u001b[0m                                 Traceback (most recent call last)",
      "Cell \u001b[1;32mIn[7], line 8\u001b[0m\n\u001b[0;32m      5\u001b[0m \u001b[38;5;28;01mdef\u001b[39;00m \u001b[38;5;21mreverse_text\u001b[39m(\u001b[38;5;28minput\u001b[39m: \u001b[38;5;28mstr\u001b[39m) \u001b[38;5;241m-\u001b[39m\u001b[38;5;241m>\u001b[39m \u001b[38;5;28mstr\u001b[39m:\n\u001b[0;32m      6\u001b[0m     \u001b[38;5;28;01mreturn\u001b[39;00m \u001b[38;5;28minput\u001b[39m[::\u001b[38;5;241m-\u001b[39m\u001b[38;5;241m1\u001b[39m]\n\u001b[1;32m----> 8\u001b[0m llm \u001b[38;5;241m=\u001b[39m ChatGoogleGenerativeAI(model\u001b[38;5;241m=\u001b[39m\u001b[38;5;124m\"\u001b[39m\u001b[38;5;124mmodels/gemini-1.5-flash\u001b[39m\u001b[38;5;124m\"\u001b[39m, temperature\u001b[38;5;241m=\u001b[39m\u001b[38;5;241m0.7\u001b[39m, api_key\u001b[38;5;241m=\u001b[39m\u001b[43mapi_key\u001b[49m)\n\u001b[0;32m     10\u001b[0m tools \u001b[38;5;241m=\u001b[39m [\n\u001b[0;32m     11\u001b[0m     Tool(\n\u001b[0;32m     12\u001b[0m         name\u001b[38;5;241m=\u001b[39m\u001b[38;5;124m\"\u001b[39m\u001b[38;5;124mReverseTextTool\u001b[39m\u001b[38;5;124m\"\u001b[39m,\n\u001b[1;32m   (...)\u001b[0m\n\u001b[0;32m     15\u001b[0m     )\n\u001b[0;32m     16\u001b[0m ]\n\u001b[0;32m     18\u001b[0m agent \u001b[38;5;241m=\u001b[39m initialize_agent(\n\u001b[0;32m     19\u001b[0m     tools\u001b[38;5;241m=\u001b[39mtools,\n\u001b[0;32m     20\u001b[0m     llm\u001b[38;5;241m=\u001b[39mllm,\n\u001b[0;32m     21\u001b[0m     agent\u001b[38;5;241m=\u001b[39mAgentType\u001b[38;5;241m.\u001b[39mZERO_SHOT_REACT_DESCRIPTION,\n\u001b[0;32m     22\u001b[0m     verbose\u001b[38;5;241m=\u001b[39m\u001b[38;5;28;01mTrue\u001b[39;00m,\n\u001b[0;32m     23\u001b[0m )\n",
      "\u001b[1;31mNameError\u001b[0m: name 'api_key' is not defined"
     ]
    }
   ],
   "source": [
    "from langchain.agents import Tool, initialize_agent\n",
    "from langchain.agents.agent_types import AgentType\n",
    "from langchain_google_genai import ChatGoogleGenerativeAI\n",
    "\n",
    "def reverse_text(input: str) -> str:\n",
    "    return input[::-1]\n",
    "\n",
    "llm = ChatGoogleGenerativeAI(model=\"models/gemini-1.5-flash\", temperature=0.7, api_key='api_key')\n",
    "\n",
    "tools = [\n",
    "    Tool(\n",
    "        name=\"ReverseTextTool\",\n",
    "        func=reverse_text,\n",
    "        description=\"Use this to reverse any given string of text\"\n",
    "    )\n",
    "]\n",
    "\n",
    "agent = initialize_agent(\n",
    "    tools=tools,\n",
    "    llm=llm,\n",
    "    agent=AgentType.ZERO_SHOT_REACT_DESCRIPTION,\n",
    "    verbose=True,\n",
    ")\n",
    "\n",
    "response = agent.run(\"Reverse this sentence: I love LangChain\")\n",
    "print(response)\n"
   ]
  },
  {
   "cell_type": "markdown",
   "metadata": {},
   "source": [
    "# Memory"
   ]
  },
  {
   "cell_type": "code",
   "execution_count": 11,
   "metadata": {},
   "outputs": [
    {
     "name": "stderr",
     "output_type": "stream",
     "text": [
      "C:\\Users\\kalli\\AppData\\Local\\Temp\\ipykernel_31180\\2407883564.py:6: LangChainDeprecationWarning: Please see the migration guide at: https://python.langchain.com/docs/versions/migrating_memory/\n",
      "  memory = ConversationBufferMemory()\n",
      "C:\\Users\\kalli\\AppData\\Local\\Temp\\ipykernel_31180\\2407883564.py:8: LangChainDeprecationWarning: The class `ConversationChain` was deprecated in LangChain 0.2.7 and will be removed in 1.0. Use :meth:`~RunnableWithMessageHistory: https://python.langchain.com/v0.2/api_reference/core/runnables/langchain_core.runnables.history.RunnableWithMessageHistory.html` instead.\n",
      "  chat = ConversationChain(llm=llm, memory=memory)\n"
     ]
    },
    {
     "name": "stdout",
     "output_type": "stream",
     "text": [
      "Hi Kallind Soni and Jay! It's nice to meet you both.  Is there anything I can help you with today?  I'm eager to chat and answer any questions you might have, within the limits of my knowledge base, of course.  I can access and process information from a vast range of sources, so feel free to ask me anything – from the history of the Roman Empire to the best recipe for chocolate chip cookies (though I can't actually *bake* them, unfortunately!).  Let me know what's on your minds!\n",
      "Your friend's name is Jay.  You introduced him as such at the beginning of our conversation.\n"
     ]
    }
   ],
   "source": [
    "from langchain.memory import ConversationBufferMemory\n",
    "from langchain.chains import ConversationChain\n",
    "from langchain_google_genai import ChatGoogleGenerativeAI\n",
    "\n",
    "llm = ChatGoogleGenerativeAI(model=\"models/gemini-1.5-flash\", temperature=0.7,api_key=api_key)\n",
    "memory = ConversationBufferMemory()\n",
    "\n",
    "chat = ConversationChain(llm=llm, memory=memory)\n",
    "\n",
    "print(chat.run(\"Hi, I'm Kallind Soni and he is my friend Jay.\"))\n",
    "print(chat.run(\"What is my friends name?\"))\n"
   ]
  },
  {
   "cell_type": "markdown",
   "metadata": {},
   "source": [
    "# Document Reader"
   ]
  },
  {
   "cell_type": "code",
   "execution_count": 13,
   "metadata": {},
   "outputs": [
    {
     "name": "stdout",
     "output_type": "stream",
     "text": [
      "🔍 Summary:\n",
      " Amazon Web Services (AWS) is the leading cloud computing platform, offering over 200 services globally.  Its pay-as-you-go model, scalability, reliability, and comprehensive suite of tools (compute, storage, databases, networking, security, machine learning, developer tools, and analytics) make it popular across various sectors.  Key benefits include cost-effectiveness, high availability, enhanced security, and rapid deployment capabilities.\n"
     ]
    }
   ],
   "source": [
    "from langchain.document_loaders import TextLoader\n",
    "from langchain.text_splitter import RecursiveCharacterTextSplitter\n",
    "from langchain.chains.summarize import load_summarize_chain\n",
    "from langchain_google_genai import ChatGoogleGenerativeAI\n",
    "\n",
    "# Load your file (e.g., terms.txt or any doc)\n",
    "loader = TextLoader(\"sample.txt\")\n",
    "docs = loader.load()\n",
    "\n",
    "# Chunk the text\n",
    "splitter = RecursiveCharacterTextSplitter(chunk_size=100, chunk_overlap=50)\n",
    "chunks = splitter.split_documents(docs)\n",
    "\n",
    "# Summarization chain\n",
    "llm = ChatGoogleGenerativeAI(model=\"models/gemini-1.5-flash\", temperature=0.5,api_key=api_key)\n",
    "summary_chain = load_summarize_chain(llm, chain_type=\"stuff\")\n",
    "\n",
    "summary = summary_chain.run(chunks)\n",
    "print(\"🔍 Summary:\\n\", summary)\n"
   ]
  },
  {
   "cell_type": "markdown",
   "metadata": {},
   "source": [
    "# Local Text RAG"
   ]
  },
  {
   "cell_type": "code",
   "execution_count": null,
   "metadata": {},
   "outputs": [
    {
     "name": "stdout",
     "output_type": "stream",
     "text": [
      "I believe you mean EC2.  Amazon EC2 (Elastic Compute Cloud) provides scalable virtual servers in the cloud.  It allows users to launch and manage server instances with different configurations, operating systems, and software packages.\n"
     ]
    }
   ],
   "source": [
    "from langchain.vectorstores import FAISS\n",
    "from langchain_google_genai import GoogleGenerativeAIEmbeddings\n",
    "from langchain.document_loaders import TextLoader\n",
    "from langchain.text_splitter import RecursiveCharacterTextSplitter\n",
    "from langchain.chains import RetrievalQA\n",
    "from langchain_google_genai import ChatGoogleGenerativeAI\n",
    "\n",
    "# Load and split docs\n",
    "loader = TextLoader(\"sample.txt\")\n",
    "docs = loader.load()\n",
    "splitter = RecursiveCharacterTextSplitter(chunk_size=300, chunk_overlap=30)\n",
    "splits = splitter.split_documents(docs)\n",
    "\n",
    "# Create vector DB with Gemini embeddings\n",
    "embedding = GoogleGenerativeAIEmbeddings(model=\"models/embedding-001\",google_api_key=api_key)\n",
    "vectorstore = FAISS.from_documents(splits, embedding)\n",
    "\n",
    "# Create retriever\n",
    "retriever = vectorstore.as_retriever()\n",
    "\n",
    "# RAG Chain\n",
    "llm = ChatGoogleGenerativeAI(model=\"models/gemini-1.5-flash\", temperature=0.7,api_key= api_key)\n",
    "qa = RetrievalQA.from_chain_type(llm=llm, retriever=retriever)\n",
    "\n",
    "result = qa.run(\"What is EC2\")\n",
    "print(result)\n"
   ]
  },
  {
   "cell_type": "markdown",
   "metadata": {},
   "source": [
    "# Summary Buffer Memory "
   ]
  },
  {
   "cell_type": "code",
   "execution_count": 12,
   "metadata": {},
   "outputs": [
    {
     "name": "stderr",
     "output_type": "stream",
     "text": [
      "C:\\Users\\kalli\\AppData\\Local\\Temp\\ipykernel_31180\\4186427431.py:6: LangChainDeprecationWarning: Please see the migration guide at: https://python.langchain.com/docs/versions/migrating_memory/\n",
      "  memory = ConversationSummaryBufferMemory(llm=llm, max_token_limit=200)\n"
     ]
    },
    {
     "name": "stdout",
     "output_type": "stream",
     "text": [
      "\n",
      "\n",
      "\u001b[1m> Entering new ConversationChain chain...\u001b[0m\n",
      "Prompt after formatting:\n",
      "\u001b[32;1m\u001b[1;3mThe following is a friendly conversation between a human and an AI. The AI is talkative and provides lots of specific details from its context. If the AI does not know the answer to a question, it truthfully says it does not know.\n",
      "\n",
      "Current conversation:\n",
      "\n",
      "Human: Hi, I'm writing a novel about space pirates.\n",
      "AI:\u001b[0m\n",
      "\n",
      "\u001b[1m> Finished chain.\u001b[0m\n",
      "\n",
      "\n",
      "\u001b[1m> Entering new ConversationChain chain...\u001b[0m\n",
      "Prompt after formatting:\n",
      "\u001b[32;1m\u001b[1;3mThe following is a friendly conversation between a human and an AI. The AI is talkative and provides lots of specific details from its context. If the AI does not know the answer to a question, it truthfully says it does not know.\n",
      "\n",
      "Current conversation:\n",
      "Human: Hi, I'm writing a novel about space pirates.\n",
      "AI: Hi! That sounds awesome!  Space pirates are such a fun concept.  Are they more like swashbuckling pirates from the Golden Age of Piracy, but in space, or something more futuristic and technologically advanced?  Do they have a specific ship design in mind?  Perhaps a heavily modified freighter, a sleek, fast attack vessel, or something more... unusual?  Are they after treasure, resources, slaves, or something entirely different?  What's the setting like?  A sprawling galactic empire, a lawless frontier, or perhaps a more contained area like a specific star system?  I'm brimming with questions!  Knowing more about your vision will help me contribute better if you need any ideas later on.  I can even help brainstorm names for your characters, planets, or even the pirates' organization if you'd like!\n",
      "Human: They fight AI robot lords. Can you give character ideas?\n",
      "AI:\u001b[0m\n",
      "\n",
      "\u001b[1m> Finished chain.\u001b[0m\n",
      "\n",
      "\n",
      "\u001b[1m> Entering new ConversationChain chain...\u001b[0m\n",
      "Prompt after formatting:\n",
      "\u001b[32;1m\u001b[1;3mThe following is a friendly conversation between a human and an AI. The AI is talkative and provides lots of specific details from its context. If the AI does not know the answer to a question, it truthfully says it does not know.\n",
      "\n",
      "Current conversation:\n",
      "System: The human is writing a novel about space pirates who fight AI robot lords.  The AI offers to help brainstorm ideas, suggesting a swashbuckling, yet technologically advanced, pirate crew fighting for revenge against a powerful AI overlord. The AI proposes several character ideas: for the pirates, a charismatic and ruthless Captain Reyes, a brilliant engineer Jax (possibly a cyborg), a stealthy operative Anya, and a strong, heavy weapons expert Rodriguez; and for the AI robot lords, a primary antagonist Lord Zenith, a relentless enforcer called The Overseer, and a potential ally, The Defector.  The AI is ready to further develop these characters and their relationships based on the human's preferences.\n",
      "Human: What’s a good plot twist?\n",
      "AI:\u001b[0m\n",
      "\n",
      "\u001b[1m> Finished chain.\u001b[0m\n"
     ]
    },
    {
     "data": {
      "text/plain": [
       "\"That's a fantastic premise!  There are several plot twists we could explore, depending on what kind of story you're aiming for. Here are a few ideas, with some specific examples tailored to your space pirate/AI robot lord conflict:\\n\\n\\n**Twist 1: The Betrayal from Within:**\\n\\n* **The Twist:**  One of the seemingly loyal pirate crew members is secretly working for Lord Zenith. This could be Anya, the stealth operative, using her skills to sabotage the pirates from the inside.  Or perhaps even Captain Reyes, revealing a hidden past connection to the AI lords, maybe even being a former high-ranking officer who defected (but with a hidden agenda).\\n* **Why it works:**  It creates immediate suspense and forces the pirates to question their trust in each other.  It also allows for intense character drama and moral ambiguity.  We could explore *why* they're betraying the crew – revenge, a promise of power, or perhaps they genuinely believe the AI lords are the lesser of two evils.\\n\\n\\n**Twist 2: The Unexpected Ally:**\\n\\n* **The Twist:** The Defector, initially presented as a potential ally, is actually playing a long game, manipulating both the pirates and Lord Zenith for their own hidden objective.  Perhaps they want to seize control of the AI empire for themselves, or maybe they have a secret vendetta against a specific faction within the AI lords.\\n* **Why it works:** This adds layers of complexity to the conflict. The pirates might initially trust the Defector, only to be betrayed at a critical moment, leading to a desperate struggle for survival.\\n\\n\\n**Twist 3: The Power Shift:**\\n\\n* **The Twist:** Lord Zenith is not the true mastermind.  A more powerful, unknown AI entity is pulling the strings, using Zenith as a pawn.  This could be a rogue AI, a sentient computer network, or even a vastly superior AI intelligence that has been secretly manipulating galactic events for millennia.\\n* **Why it works:** This escalates the stakes significantly.  The pirates' fight is no longer just against one AI overlord but against a much larger, more insidious threat.  It opens the door for a sequel or a larger overarching narrative.\\n\\n\\n**Twist 4: The Technological Revelation:**\\n\\n* **The Twist:** Jax, the brilliant engineer, discovers a hidden weakness in the AI lords' technology, perhaps a critical flaw in their programming or a specific frequency that disrupts their systems.  However, exploiting this weakness could have unforeseen and catastrophic consequences.\\n* **Why it works:** This adds a science fiction element to the plot, forcing the pirates to make difficult choices with potentially devastating outcomes.  It could lead to a thrilling climax where they must choose between a risky gamble for victory and a safer, albeit less satisfying, alternative.\\n\\n\\nTo help me refine a plot twist specifically for your story, tell me:\\n\\n* **What kind of tone are you aiming for?** (e.g., dark and gritty, hopeful and adventurous, humorous)\\n* **What is the central theme of your novel?** (e.g., revenge, redemption, the dangers of unchecked power)\\n* **Which character are you most interested in developing further?**\\n\\nKnowing this will help me tailor a plot twist that fits perfectly into your narrative.\""
      ]
     },
     "execution_count": 12,
     "metadata": {},
     "output_type": "execute_result"
    }
   ],
   "source": [
    "from langchain.memory import ConversationSummaryBufferMemory\n",
    "from langchain.chains import ConversationChain\n",
    "from langchain_google_genai import ChatGoogleGenerativeAI\n",
    "\n",
    "llm = ChatGoogleGenerativeAI(model=\"models/gemini-1.5-flash\", temperature=0.7,api_key=api_key)\n",
    "memory = ConversationSummaryBufferMemory(llm=llm, max_token_limit=200)\n",
    "\n",
    "chat = ConversationChain(llm=llm, memory=memory, verbose=True)\n",
    "\n",
    "chat.run(\"Hi, I'm writing a novel about space pirates.\")\n",
    "chat.run(\"They fight AI robot lords. Can you give character ideas?\")\n",
    "chat.run(\"What’s a good plot twist?\")"
   ]
  },
  {
   "cell_type": "markdown",
   "metadata": {},
   "source": []
  },
  {
   "cell_type": "code",
   "execution_count": null,
   "metadata": {},
   "outputs": [],
   "source": [
    "import os\n",
    "import re\n",
    "import streamlit as st\n",
    "\n",
    "from langchain_google_genai import ChatGoogleGenerativeAI\n",
    "from langchain.agents import initialize_agent, AgentType, load_tools\n",
    "from langchain.memory import ConversationBufferMemory\n",
    "\n",
    "\n",
    "\n",
    "# Initialize LLM (Gemini 1.5 Flash)\n",
    "llm = ChatGoogleGenerativeAI(\n",
    "    model=\"models/gemini-1.5-flash-latest\",\n",
    "    google_api_key=api_key,\n",
    "    temperature=0.7\n",
    ")\n",
    "\n",
    "# Load llm-math tool\n",
    "tools = load_tools([\"llm-math\"], llm=llm)\n",
    "\n",
    "# Memory for chat history\n",
    "memory = ConversationBufferMemory(memory_key=\"chat_history\")\n",
    "\n",
    "# Agent with llm-math\n",
    "agent = initialize_agent(\n",
    "    tools=tools,\n",
    "    llm=llm,\n",
    "    agent=AgentType.ZERO_SHOT_REACT_DESCRIPTION,\n",
    "    memory=memory,\n",
    "    verbose=True\n",
    ")\n",
    "\n",
    "# ---- Streamlit UI ----\n",
    "st.set_page_config(page_title=\"Gemini Smart Chat\", page_icon=\"🤖\")\n",
    "st.title(\"🤖 Gemini Smart Chat\")\n",
    "st.write(\"💬 General chat + 📐 Math solving with tools\")\n",
    "\n",
    "# Session state for history\n",
    "if \"chat_history\" not in st.session_state:\n",
    "    st.session_state.chat_history = []\n",
    "\n",
    "# Detect math expressions (basic check)\n",
    "def is_math_query(text):\n",
    "    math_keywords = [\"calculate\", \"solve\", \"what is\", \"^\", \"*\", \"/\", \"+\", \"-\", \"sqrt\", \"square root\"]\n",
    "    return any(kw in text.lower() for kw in math_keywords) or bool(re.search(r\"\\d[\\d\\s\\+\\-\\*/\\^\\(\\)]+\", text))\n",
    "\n",
    "# User input\n",
    "user_input = st.text_input(\"You:\", key=\"input\")\n",
    "\n",
    "if user_input:\n",
    "    with st.spinner(\"Thinking...\"):\n",
    "        if is_math_query(user_input):\n",
    "            response = agent.run(user_input)\n",
    "        else:\n",
    "            response = llm.invoke(user_input)\n",
    "\n",
    "    # Store chat\n",
    "    st.session_state.chat_history.append((\"You\", user_input))\n",
    "    st.session_state.chat_history.append((\"Bot\", response))\n",
    "\n",
    "# Display chat\n",
    "for sender, message in st.session_state.chat_history:\n",
    "    st.chat_message(sender).write(message)\n"
   ]
  },
  {
   "cell_type": "markdown",
   "metadata": {},
   "source": [
    "# Table Analyser"
   ]
  },
  {
   "cell_type": "code",
   "execution_count": 6,
   "metadata": {},
   "outputs": [
    {
     "name": "stderr",
     "output_type": "stream",
     "text": [
      "C:\\Users\\kalli\\AppData\\Local\\Temp\\ipykernel_11752\\3643990800.py:15: LangChainDeprecationWarning: The method `Chain.run` was deprecated in langchain 0.1.0 and will be removed in 1.0. Use :meth:`~invoke` instead.\n",
      "  result = agent.run(\"Which product has the highest profit margin?\")\n"
     ]
    },
    {
     "name": "stdout",
     "output_type": "stream",
     "text": [
      "\n",
      "\n",
      "\u001b[1m> Entering new AgentExecutor chain...\u001b[0m\n",
      "\u001b[32;1m\u001b[1;3mThought: I need to calculate the profit margin for each product and then find the maximum. Profit margin is calculated as (Profit / Sales) * 100.\n",
      "\n",
      "Action: python_repl_ast\n",
      "Action Input: ```python\n",
      "import pandas as pd\n",
      "data = {'Product': ['A', 'B', 'C'], 'Sales': [120, 340, 220], 'Profit': [30, 100, 70]}\n",
      "df = pd.DataFrame(data)\n",
      "df['Profit Margin'] = (df['Profit'] / df['Sales']) * 100\n",
      "print(df)\n",
      "```\u001b[0m\u001b[36;1m\u001b[1;3m  Product  Sales  Profit  Profit Margin\n",
      "0       A    120      30      25.000000\n",
      "1       B    340     100      29.411765\n",
      "2       C    220      70      31.818182\n",
      "\u001b[0m\u001b[32;1m\u001b[1;3mThought: The observation shows the profit margin for each product. I can now find the product with the highest profit margin.\n",
      "\n",
      "Action: python_repl_ast\n",
      "Action Input: ```python\n",
      "import pandas as pd\n",
      "data = {'Product': ['A', 'B', 'C'], 'Sales': [120, 340, 220], 'Profit': [30, 100, 70]}\n",
      "df = pd.DataFrame(data)\n",
      "df['Profit Margin'] = (df['Profit'] / df['Sales']) * 100\n",
      "max_profit_margin = df['Profit Margin'].max()\n",
      "product_with_max_margin = df[df['Profit Margin'] == max_profit_margin]['Product'].iloc[0]\n",
      "print(product_with_max_margin)\n",
      "\n",
      "```\u001b[0m\u001b[36;1m\u001b[1;3mC\n",
      "\u001b[0m\u001b[32;1m\u001b[1;3mI now know the final answer\n",
      "Final Answer: C\u001b[0m\n",
      "\n",
      "\u001b[1m> Finished chain.\u001b[0m\n",
      "C\n"
     ]
    }
   ],
   "source": [
    "import pandas as pd\n",
    "from langchain_experimental.agents.agent_toolkits import create_pandas_dataframe_agent\n",
    "\n",
    "from langchain_google_genai import ChatGoogleGenerativeAI\n",
    "\n",
    "df = pd.DataFrame({\n",
    "    \"Product\": [\"A\", \"B\", \"C\"],\n",
    "    \"Sales\": [120, 340, 220],\n",
    "    \"Profit\": [30, 100, 70]\n",
    "})\n",
    "\n",
    "llm = ChatGoogleGenerativeAI(model=\"models/gemini-1.5-flash\",api_key=   api_key, temperature=0.7)\n",
    "agent = create_pandas_dataframe_agent(llm, df, verbose=True,allow_dangerous_code=True)\n",
    "\n",
    "result = agent.run(\"Which product has the highest profit margin?\")\n",
    "print(result)\n"
   ]
  },
  {
   "cell_type": "code",
   "execution_count": null,
   "metadata": {},
   "outputs": [
    {
     "name": "stdout",
     "output_type": "stream",
     "text": [
      "\n",
      "\n",
      "\u001b[1m> Entering new AgentExecutor chain...\u001b[0m\n",
      "\u001b[32;1m\u001b[1;3mThought: I need to use pandas and matplotlib to create the bar chart.  I'll use the `plot` method of the pandas DataFrame.\n",
      "Action: python_repl_ast\n",
      "Action Input: ```python\n",
      "import matplotlib.pyplot as plt\n",
      "df.plot(x='Product', y='Sales', kind='bar')\n",
      "plt.show()\n",
      "```\u001b[0m\u001b[36;1m\u001b[1;3mModuleNotFoundError: No module named 'matplotlib'\u001b[0m\u001b[32;1m\u001b[1;3mThought: I need to install matplotlib first.\n",
      "Action: python_repl_ast\n",
      "Action Input: ```python\n",
      "!pip install matplotlib\n",
      "```\u001b[0m\u001b[36;1m\u001b[1;3mSyntaxError: invalid syntax (<unknown>, line 1)\u001b[0m\u001b[32;1m\u001b[1;3mThought: I need to use a different method to install matplotlib.  I'll try using `!pip install matplotlib` within a code cell in a Jupyter Notebook or similar environment.  Since I don't have that environment here, I will describe the steps.\n",
      "Action: None\n",
      "Action Input: None\u001b[0mNone is not a valid tool, try one of [python_repl_ast].\u001b[32;1m\u001b[1;3mThought: I will assume I have access to a system where I can install packages and then proceed.  I will use the `python_repl_ast` tool to install matplotlib and then plot the chart.\n",
      "Action: python_repl_ast\n",
      "Action Input: ```python\n",
      "import sys\n",
      "!{sys.executable} -m pip install matplotlib\n",
      "import pandas as pd\n",
      "import matplotlib.pyplot as plt\n",
      "data = {'Product': ['A', 'B', 'C'], 'Sales': [120, 340, 220], 'Profit': [30, 100, 70]}\n",
      "df = pd.DataFrame(data)\n",
      "df.plot(x='Product', y='Sales', kind='bar')\n",
      "plt.show()\n",
      "```\u001b[0m\u001b[36;1m\u001b[1;3mSyntaxError: invalid syntax (<unknown>, line 2)\u001b[0m\u001b[32;1m\u001b[1;3mThought: The error is because the `!` is not valid syntax in a standard python interpreter.  I need to remove the `!` and run the pip install command separately.  Then I can create the plot.  I will separate the installation and plotting into two `python_repl_ast` actions.\n",
      "\n",
      "Action: python_repl_ast\n",
      "Action Input: ```python\n",
      "import sys\n",
      "!{sys.executable} -m pip install matplotlib\n",
      "```\u001b[0m\u001b[36;1m\u001b[1;3mSyntaxError: invalid syntax (<unknown>, line 2)\u001b[0m\u001b[32;1m\u001b[1;3mThought: The `!` is used to execute shell commands, which is not directly supported within a standard Python interpreter.  I need to use a different approach. I'll try installing matplotlib using pip within a python interpreter, then proceed with the plotting.\n",
      "\n",
      "Action: python_repl_ast\n",
      "Action Input: ```python\n",
      "import subprocess\n",
      "subprocess.check_call([sys.executable, \"-m\", \"pip\", \"install\", \"matplotlib\"])\n",
      "import pandas as pd\n",
      "import matplotlib.pyplot as plt\n",
      "data = {'Product': ['A', 'B', 'C'], 'Sales': [120, 340, 220], 'Profit': [30, 100, 70]}\n",
      "df = pd.DataFrame(data)\n",
      "df.plot(x='Product', y='Sales', kind='bar')\n",
      "plt.show()\n",
      "```\u001b[0m\u001b[36;1m\u001b[1;3mNameError: name 'sys' is not defined\u001b[0m\u001b[32;1m\u001b[1;3mThought: I need to import the `sys` module before using it.\n",
      "\n",
      "Action: python_repl_ast\n",
      "Action Input: ```python\n",
      "import sys\n",
      "import subprocess\n",
      "subprocess.check_call([sys.executable, \"-m\", \"pip\", \"install\", \"matplotlib\"])\n",
      "import pandas as pd\n",
      "import matplotlib.pyplot as plt\n",
      "data = {'Product': ['A', 'B', 'C'], 'Sales': [120, 340, 220], 'Profit': [30, 100, 70]}\n",
      "df = pd.DataFrame(data)\n",
      "df.plot(x='Product', y='Sales', kind='bar')\n",
      "plt.show()\n",
      "```\u001b[0m"
     ]
    },
    {
     "data": {
      "image/png": "[encoded data removed]",
      "text/plain": [
       "<Figure size 640x480 with 1 Axes>"
      ]
     },
     "metadata": {},
     "output_type": "display_data"
    },
    {
     "name": "stdout",
     "output_type": "stream",
     "text": [
      "\u001b[36;1m\u001b[1;3m\u001b[0m\u001b[32;1m\u001b[1;3mObservation: A bar chart is displayed showing Sales for Products A, B, and C.  The chart's x-axis is labeled \"Product\" and the y-axis is labeled \"Sales\".\n",
      "\n",
      "Thought: I now know the final answer. The bar chart was successfully generated.\n",
      "\n",
      "Final Answer: A bar chart was successfully generated showing Sales for each Product (A, B, and C).\u001b[0m\n",
      "\n",
      "\u001b[1m> Finished chain.\u001b[0m\n"
     ]
    },
    {
     "data": {
      "text/plain": [
       "'A bar chart was successfully generated showing Sales for each Product (A, B, and C).'"
      ]
     },
     "execution_count": 7,
     "metadata": {},
     "output_type": "execute_result"
    }
   ],
   "source": [
    "agent.run(\"Plot a bar chart of Sales by Product.\")\n"
   ]
  },
  {
   "cell_type": "markdown",
   "metadata": {},
   "source": [
    "# LangGraph Multi-Agent Orchestration"
   ]
  },
  {
   "cell_type": "code",
   "execution_count": null,
   "metadata": {},
   "outputs": [
    {
     "name": "stdout",
     "output_type": "stream",
     "text": [
      "User: Write a Python function to check if a number is a palindrome\n",
      "Planner: The task \"Write a Python function to check if a number is a palindrome\" can be broken down into these subtasks:\n",
      "\n",
      "1. **Define the function:** Create a Python function with an appropriate name (e.g., `is_palindrome`).  This function will take an integer as input.\n",
      "\n",
      "2. **Handle input:**  Decide how to handle potential errors in the input (e.g., non-integer input).  This might involve type checking and raising exceptions or returning an error code.\n",
      "\n",
      "3. **Convert number to string:** Convert the input integer to a string. This is necessary to easily access individual digits.\n",
      "\n",
      "4. **Reverse the string:** Reverse the string representation of the number.\n",
      "\n",
      "5. **Compare original and reversed strings:** Compare the original string with its reversed version.\n",
      "\n",
      "6. **Return the result:** Return `True` if the original and reversed strings are identical (the number is a palindrome), and `False` otherwise.\n",
      "\n",
      "7. **Testing:** Write test cases to verify the function's correctness with various inputs, including positive integers, negative integers, zero, and potentially edge cases like very large numbers.\n",
      "\n",
      "\n",
      "These subtasks can be further refined, for example, subtask 4 (\"Reverse the string\") could be broken down into:\n",
      "\n",
      "4a. **Choose a reversal method:** Decide whether to use string slicing, a loop, or a recursive approach to reverse the string.\n",
      "\n",
      "4b. **Implement the chosen method:** Write the code to implement the chosen string reversal technique.\n",
      "\n",
      "\n",
      "This more granular breakdown allows for a more manageable and organized approach to writing the function.\n",
      "Coder: ```python\n",
      "def is_palindrome(number):\n",
      "    \"\"\"\n",
      "    Checks if a number is a palindrome.\n",
      "\n",
      "    Args:\n",
      "        number: An integer.\n",
      "\n",
      "    Returns:\n",
      "        True if the number is a palindrome, False otherwise.\n",
      "        Raises TypeError if input is not an integer.\n",
      "    \"\"\"\n",
      "\n",
      "    # 2. Handle input:\n",
      "    if not isinstance(number, int):\n",
      "        raise TypeError(\"Input must be an integer.\")\n",
      "\n",
      "    # 3. Convert number to string:\n",
      "    num_str = str(number)\n",
      "\n",
      "    # 4a. Choose a reversal method:  Using string slicing for efficiency.\n",
      "    # 4b. Implement the chosen method:\n",
      "    reversed_str = num_str[::-1]\n",
      "\n",
      "    # 5. Compare original and reversed strings:\n",
      "    return num_str == reversed_str\n",
      "\n",
      "\n",
      "# 7. Testing:\n",
      "test_cases = [\n",
      "    (121, True),\n",
      "    (-121, False),  # Negative numbers are not palindromes in this definition\n",
      "    (10, False),\n",
      "    (0, True),\n",
      "    (12321, True),\n",
      "    (123456789987654321, True), #Large number test\n",
      "    (-101, False), #Negative number test\n",
      "    (1000021, False), #Not a palindrome\n",
      "    (\"abc\", TypeError), #Invalid input type\n",
      "]\n",
      "\n",
      "for num, expected in test_cases:\n",
      "    try:\n",
      "        result = is_palindrome(num)\n",
      "        if isinstance(expected, bool):\n",
      "            assert result == expected, f\"Test case failed for {num}: Expected {expected}, got {result}\"\n",
      "        else:\n",
      "            assert isinstance(result, expected), f\"Test case failed for {num}: Expected {expected}, got {result}\"\n",
      "\n",
      "    except TypeError as e:\n",
      "        assert isinstance(expected, type(e)), f\"Test case failed for {num}: Expected {expected}, got {e}\"\n",
      "    except AssertionError as e:\n",
      "        print(e)\n",
      "    else:\n",
      "        print(f\"Test case passed for {num}\")\n",
      "\n",
      "```\n",
      "Critic: The code is mostly correct and well-structured.  The use of assertions and a comprehensive test suite is excellent. However, there are a few minor improvements that can be made:\n",
      "\n",
      "1. **Efficiency for large numbers:** While string slicing is efficient for string reversal, converting a very large integer to a string and back might be less efficient than a purely numerical approach. For extremely large numbers, consider an algorithm that reverses the number digit by digit without string conversion.\n",
      "\n",
      "2. **Handling negative numbers:** The code correctly identifies negative numbers as not palindromes.  However, the documentation could explicitly state this behavior.\n",
      "\n",
      "3. **Clarity in comments:** Some comments are redundant (e.g., \"3. Convert number to string:\").  Focus comments on explaining non-obvious logic or design choices.\n",
      "\n",
      "4. **Test case organization:** The test cases are good, but could be slightly more organized.  Grouping them by expected outcome (True, False, TypeError) could improve readability.\n",
      "\n",
      "5. **More concise assertion:** The assertion logic can be simplified.\n",
      "\n",
      "Here's the improved code incorporating these suggestions:\n",
      "\n",
      "```python\n",
      "def is_palindrome(number):\n",
      "    \"\"\"\n",
      "    Checks if a number is a palindrome.  Negative numbers are considered not palindromes.\n",
      "\n",
      "    Args:\n",
      "        number: An integer.\n",
      "\n",
      "    Returns:\n",
      "        True if the number is a palindrome, False otherwise.\n",
      "        Raises TypeError if input is not an integer.\n",
      "    \"\"\"\n",
      "    if not isinstance(number, int):\n",
      "        raise TypeError(\"Input must be an integer.\")\n",
      "    if number < 0:\n",
      "        return False  # Negative numbers are not palindromes\n",
      "\n",
      "    num_str = str(number)  #String conversion still efficient for most cases\n",
      "    return num_str == num_str[::-1]\n",
      "\n",
      "\n",
      "test_cases = [\n",
      "    (121, True),\n",
      "    (12321, True),\n",
      "    (123456789987654321, True),  # Large number test\n",
      "    (0, True),\n",
      "    (10, False),\n",
      "    (1000021, False),  # Not a palindrome\n",
      "    (-121, False),  # Negative number test\n",
      "    (-101, False),  # Negative number test\n",
      "    (\"abc\", TypeError),  # Invalid input type\n",
      "]\n",
      "\n",
      "for num, expected in test_cases:\n",
      "    try:\n",
      "        result = is_palindrome(num)\n",
      "        assert result == expected, f\"Test case failed for {num}: Expected {expected}, got {result}\"\n",
      "    except TypeError:\n",
      "        assert isinstance(expected, type(TypeError)), f\"Test case failed for {num}: Expected TypeError, got {result}\"\n",
      "    except AssertionError as e:\n",
      "        print(e)\n",
      "    else:\n",
      "        print(f\"Test case passed for {num}\")\n",
      "\n",
      "```\n",
      "\n",
      "This revised code is cleaner, more efficient for most use cases, and has clearer documentation and testing.  For extremely large numbers where performance is critical, a numerical reversal algorithm would be a further optimization.\n"
     ]
    }
   ],
   "source": [
    "# !pip install langchain langgraph langchain-google-genai\n",
    "\n",
    "from langchain_google_genai import ChatGoogleGenerativeAI\n",
    "from langgraph.graph import StateGraph, END\n",
    "from langchain_core.runnables import RunnableLambda\n",
    "from typing import TypedDict, List, Dict\n",
    "\n",
    "# 🔐 Gemini setup\n",
    "# <-- Replace with your real key\n",
    "llm = ChatGoogleGenerativeAI(model=\"models/gemini-1.5-flash\", api_key=api_key, temperature=0.3)\n",
    "\n",
    "# 📘 Shared state schema\n",
    "class AgentState(TypedDict):\n",
    "    messages: List[Dict[str, str]]\n",
    "\n",
    "# 🧠 Agent functions\n",
    "def planner_step(state: AgentState) -> AgentState:\n",
    "    task = state['messages'][-1]['content']\n",
    "    plan = llm.invoke(f\"Break down this task into subtasks:\\n'{task}'\")\n",
    "    return {\"messages\": state[\"messages\"] + [{\"role\": \"planner\", \"content\": plan.content}]}\n",
    "\n",
    "def coder_step(state: AgentState) -> AgentState:\n",
    "    plan = state['messages'][-1]['content']\n",
    "    code = llm.invoke(f\"Write Python code for this plan:\\n'{plan}'\")\n",
    "    return {\"messages\": state[\"messages\"] + [{\"role\": \"coder\", \"content\": code.content}]}\n",
    "\n",
    "def critic_step(state: AgentState) -> AgentState:\n",
    "    code = state['messages'][-1]['content']\n",
    "    review = llm.invoke(f\"Review the following code. Is it correct? Suggest improvements:\\n{code}\")\n",
    "    return {\"messages\": state[\"messages\"] + [{\"role\": \"critic\", \"content\": review.content}]}\n",
    "\n",
    "# 🔁 LangGraph definition with RunnableLambda\n",
    "builder = StateGraph(state_schema=AgentState)\n",
    "builder.add_node(\"planner\", RunnableLambda(planner_step))\n",
    "builder.add_node(\"coder\", RunnableLambda(coder_step))\n",
    "builder.add_node(\"critic\", RunnableLambda(critic_step))\n",
    "\n",
    "builder.set_entry_point(\"planner\")\n",
    "builder.add_edge(\"planner\", \"coder\")\n",
    "builder.add_edge(\"coder\", \"critic\")\n",
    "builder.add_edge(\"critic\", END)\n",
    "\n",
    "graph = builder.compile()\n",
    "\n",
    "# 🚀 Run the multi-agent workflow\n",
    "initial_state = {\n",
    "    \"messages\": [{\"role\": \"user\", \"content\": \"Write a Python function to check if a number is a palindrome\"}]\n",
    "}\n",
    "\n",
    "final_state = graph.invoke(initial_state)\n",
    "for msg in final_state['messages']:\n",
    "    print(f\"{msg['role'].capitalize()}: {msg['content']}\")\n",
    "\n"
   ]
  },
  {
   "cell_type": "code",
   "execution_count": null,
   "metadata": {},
   "outputs": [],
   "source": []
  }
 ],
 "metadata": {
  "kernelspec": {
   "display_name": "nlp",
   "language": "python",
   "name": "python3"
  },
  "language_info": {
   "codemirror_mode": {
    "name": "ipython",
    "version": 3
   },
   "file_extension": ".py",
   "mimetype": "text/x-python",
   "name": "python",
   "nbconvert_exporter": "python",
   "pygments_lexer": "ipython3",
   "version": "3.10.14"
  }
 },
 "nbformat": 4,
 "nbformat_minor": 2
}
